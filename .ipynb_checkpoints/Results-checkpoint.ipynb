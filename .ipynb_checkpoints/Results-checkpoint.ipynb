{
 "cells": [
  {
   "cell_type": "markdown",
   "metadata": {},
   "source": [
    "# Broadcast"
   ]
  },
  {
   "cell_type": "markdown",
   "metadata": {},
   "source": [
    "## Topologies\n",
    "<table>\n",
    "    <tr>\n",
    "        <td><img src=\"broadcast/simulations/1.png\"></td>\n",
    "        <td><img src=\"broadcast/simulations/2.png\"></td>\n",
    "        <td><img src=\"broadcast/simulations/3.png\"></td>\n",
    "        <td><img src=\"broadcast/simulations/4.png\"></td>\n",
    "    </tr>\n",
    "    <tr>\n",
    "        <td style=\"text-align:left\">\n",
    "            <h1>1</h1>\n",
    "            <ul>\n",
    "                <li>8 nodes + 1 sink</li>\n",
    "                <li>distance = 2</li>\n",
    "            </ul>\n",
    "        </td>\n",
    "        <td style=\"text-align:left\">\n",
    "            <h1>2</h1>\n",
    "            <ul>\n",
    "                <li>12 nodes + 1 sink</li>\n",
    "                <li>distance = 2</li>\n",
    "            </ul>\n",
    "        </td>\n",
    "        <td style=\"text-align:left\">\n",
    "            <h1>3</h1>\n",
    "            <ul>\n",
    "                <li>8 nodes + 1 sink</li>\n",
    "                <li>distance = 4</li>\n",
    "            </ul>\n",
    "        </td>\n",
    "        <td style=\"text-align:left\">\n",
    "            <h1>4</h1>\n",
    "            <ul>\n",
    "                <li>12 nodes + 1 sink</li>\n",
    "                <li>distance = 4</li>\n",
    "            </ul>\n",
    "        </td>\n",
    "    </tr>\n",
    "</table>"
   ]
  },
  {
   "cell_type": "markdown",
   "metadata": {},
   "source": [
    "## Log files"
   ]
  },
  {
   "cell_type": "code",
   "execution_count": 35,
   "metadata": {},
   "outputs": [
    {
     "name": "stdout",
     "output_type": "stream",
     "text": [
      "00:04.159\tID:8\tNodeC: Booting device 8.\n",
      "\n",
      "00:04.162\tID:8\tNodeC: AM started on device 8.\n",
      "\n",
      "00:04.322\tID:2\tNodeC: Booting device 2.\n",
      "\n",
      "00:04.326\tID:2\tNodeC: AM started on device 2.\n",
      "\n",
      "00:04.337\tID:6\tNodeC: Booting device 6.\n",
      "\n",
      "00:04.340\tID:6\tNodeC: AM started on device 6.\n",
      "\n",
      "00:04.435\tID:4\tNodeC: Booting device 4.\n",
      "\n",
      "00:04.438\tID:4\tNodeC: AM started on device 4.\n",
      "\n",
      "00:04.466\tID:1\tSinkC: Booting device 1.\n",
      "\n",
      "00:04.469\tID:1\tSinkC: AM started on device 1.\n",
      "\n",
      "00:04.470\tID:1\tSinkC: Start sending data.\n",
      "\n",
      "00:04.488\tID:7\tNodeC: Booting device 7.\n",
      "\n",
      "00:04.491\tID:7\tNodeC: AM started on device 7.\n",
      "\n",
      "00:04.795\tID:9\tNodeC: Booting device 9.\n",
      "\n",
      "00:04.798\tID:9\tNodeC: AM started on device 9.\n",
      "\n",
      "00:04.801\tID:5\tNodeC: Booting device 5.\n",
      "\n",
      "00:04.805\tID:5\tNodeC: AM started on device 5.\n",
      "\n",
      "00:04.986\tID:3\tNodeC: Booting device 3.\n",
      "\n",
      "00:04.989\tID:3\tNodeC: AM started on device 3.\n",
      "\n",
      "01:03.066\tID:1\tSinkC: P: Broadcasting packet 1.\n",
      "\n",
      "01:03.071\tID:1\tSinkC: Packet sent\n",
      "\n",
      "01:03.074\tID:2\tNodeC: Node 2 received packet of length 2.\n",
      "\n",
      "01:03.074\tID:3\tNodeC: Node 3 received packet of length 2.\n",
      "\n",
      "01:03.074\tID:4\tNodeC: Node 4 received packet of length 2.\n",
      "\n",
      "01:03.074\tID:5\tNodeC: Node 5 received packet of length 2.\n",
      "\n",
      "01:03.076\tID:3\tNodeC: Node 3 received the new packet 1.\n",
      "\n",
      "01:03.076\tID:4\tNodeC: Node 4 received the new packet 1.\n",
      "\n",
      "01:03.076\tID:2\tNodeC: Node 2 received the new packet 1.\n",
      "\n",
      "01:03.076\tID:5\tNodeC: Node 5 received the new packet 1.\n",
      "\n",
      "01:03.078\tID:3\tNodeC: P: 3 broadcasting packet 1.\n",
      "\n",
      "01:03.078\tID:4\tNodeC: P: 4 broadcasting packet 1.\n",
      "\n",
      "01:03.078\tID:2\tNodeC: P: 2 broadcasting packet 1.\n",
      "\n",
      "01:03.078\tID:5\tNodeC: P: 5 broadcasting packet 1.\n",
      "\n",
      "01:03.083\tID:3\tNodeC: Packet sent.\n",
      "\n",
      "01:03.086\tID:6\tNodeC: Node 6 received packet of length 2.\n",
      "\n",
      "01:03.086\tID:4\tNodeC: Node 4 received packet of length 2.\n",
      "\n",
      "01:03.086\tID:2\tNodeC: Node 2 received packet of length 2.\n",
      "\n",
      "01:03.087\tID:6\tNodeC: Node 6 received the new packet 1.\n",
      "\n",
      "01:03.087\tID:5\tNodeC: Packet sent.\n",
      "\n",
      "01:03.088\tID:9\tNodeC: Node 9 received packet of length 2.\n",
      "\n",
      "01:03.088\tID:7\tNodeC: Node 7 received packet of length 2.\n",
      "\n",
      "01:03.089\tID:4\tNodeC: Node 4 already received the packet 1.\n",
      "\n",
      "01:03.089\tID:2\tNodeC: Node 2 already received the packet 1.\n",
      "\n",
      "01:03.090\tID:9\tNodeC: Node 9 received the new packet 1.\n",
      "\n",
      "01:03.090\tID:7\tNodeC: Node 7 received the new packet 1.\n",
      "\n",
      "01:03.090\tID:8\tNodeC: Node 8 received packet of length 2.\n",
      "\n",
      "01:03.090\tID:4\tNodeC: Packet sent.\n",
      "\n",
      "01:03.090\tID:2\tNodeC: Packet sent.\n",
      "\n",
      "01:03.091\tID:6\tNodeC: P: 6 broadcasting packet 1.\n",
      "\n",
      "01:03.092\tID:8\tNodeC: Node 8 received the new packet 1.\n",
      "\n",
      "01:03.092\tID:6\tNodeC: Packet sent.\n",
      "\n",
      "01:03.092\tID:4\tNodeC: Node 4 received packet of length 2.\n",
      "\n",
      "01:03.092\tID:9\tNodeC: P: 9 broadcasting packet 1.\n",
      "\n",
      "01:03.092\tID:2\tNodeC: Node 2 received packet of length 2.\n",
      "\n",
      "01:03.092\tID:7\tNodeC: P: 7 broadcasting packet 1.\n",
      "\n",
      "01:03.094\tID:3\tNodeC: Node 3 received packet of length 2.\n",
      "\n",
      "01:03.094\tID:4\tNodeC: Node 4 already received the packet 1.\n",
      "\n",
      "01:03.094\tID:2\tNodeC: Node 2 already received the packet 1.\n",
      "\n",
      "01:03.095\tID:8\tNodeC: P: 8 broadcasting packet 1.\n",
      "\n",
      "01:03.096\tID:3\tNodeC: Node 3 already received the packet 1.\n",
      "\n",
      "01:03.096\tID:8\tNodeC: Packet sent.\n",
      "\n",
      "01:03.096\tID:9\tNodeC: Packet sent.\n",
      "\n",
      "01:03.098\tID:5\tNodeC: Node 5 received packet of length 2.\n",
      "\n",
      "01:03.098\tID:2\tNodeC: Node 2 received packet of length 2.\n",
      "\n",
      "01:03.101\tID:5\tNodeC: Node 5 already received the packet 1.\n",
      "\n",
      "01:03.101\tID:2\tNodeC: Node 2 already received the packet 1.\n",
      "\n",
      "01:03.102\tID:7\tNodeC: Packet sent.\n",
      "\n",
      "01:03.104\tID:4\tNodeC: Node 4 received packet of length 2.\n",
      "\n",
      "01:03.106\tID:4\tNodeC: Node 4 already received the packet 1.\n",
      "\n"
     ]
    }
   ],
   "source": [
    "filename = \"broadcast/simulations/logs/loglistener_sim_1.txt\"\n",
    "file = open(filename, \"r\")\n",
    "for line in file:\n",
    "    print (line)"
   ]
  },
  {
   "cell_type": "markdown",
   "metadata": {},
   "source": [
    "## 1\n",
    "Packet size = 2 bytes - 20 bytes"
   ]
  },
  {
   "cell_type": "code",
   "execution_count": 44,
   "metadata": {},
   "outputs": [
    {
     "name": "stdout",
     "output_type": "stream",
     "text": [
      "Packet size: 2\n",
      "\tReceived packet: 8\n",
      "\tBroadcasted packet: 8\n",
      "\n",
      "Packet size: 10\n",
      "\tReceived packet: 8\n",
      "\tBroadcasted packet: 8\n",
      "\n",
      "Packet size: 20\n",
      "\tReceived packet: 8\n",
      "\tBroadcasted packet: 8\n",
      "\n"
     ]
    }
   ],
   "source": [
    "packet_sizes = [2, 10, 20]\n",
    "\n",
    "for packet_size in packet_sizes:\n",
    "    filename = \"broadcast/simulations/logs/\" + str(packet_size) +\"/loglistener_sim_1.txt\"\n",
    "    file = open(filename, \"r\")\n",
    "    received = list()\n",
    "    broadcasted = list()\n",
    "\n",
    "    for line in file:\n",
    "        if ('received the new packet 1' in line):\n",
    "            received.append(line)\n",
    "        if ('broadcasting' in line):\n",
    "            broadcasted.append(line)\n",
    "\n",
    "    print(\"Packet size: %d\" % packet_size)\n",
    "    print(\"\\tReceived packet: %d\" % len(received))\n",
    "    print(\"\\tBroadcasted packet: %d\\n\" % len(broadcasted))"
   ]
  },
  {
   "cell_type": "markdown",
   "metadata": {},
   "source": [
    "## 2\n",
    "Packet size = 2 bytes - 20 bytes"
   ]
  },
  {
   "cell_type": "code",
   "execution_count": 46,
   "metadata": {},
   "outputs": [
    {
     "name": "stdout",
     "output_type": "stream",
     "text": [
      "Packet size: 2\n",
      "\tReceived packet: 12\n",
      "\tBroadcasted packet: 12\n",
      "\n",
      "Packet size: 10\n",
      "\tReceived packet: 12\n",
      "\tBroadcasted packet: 12\n",
      "\n",
      "Packet size: 20\n",
      "\tReceived packet: 12\n",
      "\tBroadcasted packet: 12\n",
      "\n"
     ]
    }
   ],
   "source": [
    "packet_sizes = [2, 10, 20]\n",
    "\n",
    "for packet_size in packet_sizes:\n",
    "    filename = \"broadcast/simulations/logs/\" + str(packet_size) +\"/loglistener_sim_2.txt\"\n",
    "    file = open(filename, \"r\")\n",
    "    received = list()\n",
    "    broadcasted = list()\n",
    "\n",
    "    for line in file:\n",
    "        if ('received the new packet 1' in line):\n",
    "            received.append(line)\n",
    "        if ('broadcasting' in line):\n",
    "            broadcasted.append(line)\n",
    "\n",
    "    print(\"Packet size: %d\" % packet_size)\n",
    "    print(\"\\tReceived packet: %d\" % len(received))\n",
    "    print(\"\\tBroadcasted packet: %d\\n\" % len(broadcasted))"
   ]
  },
  {
   "cell_type": "markdown",
   "metadata": {},
   "source": [
    "## 3\n",
    "Packet size = 2 bytes - 20 bytes"
   ]
  },
  {
   "cell_type": "code",
   "execution_count": 47,
   "metadata": {},
   "outputs": [
    {
     "name": "stdout",
     "output_type": "stream",
     "text": [
      "Packet size: 2\n",
      "\tReceived packet: 8\n",
      "\tBroadcasted packet: 8\n",
      "\n",
      "Packet size: 10\n",
      "\tReceived packet: 8\n",
      "\tBroadcasted packet: 8\n",
      "\n",
      "Packet size: 20\n",
      "\tReceived packet: 8\n",
      "\tBroadcasted packet: 8\n",
      "\n"
     ]
    }
   ],
   "source": [
    "packet_sizes = [2, 10, 20]\n",
    "\n",
    "for packet_size in packet_sizes:\n",
    "    filename = \"broadcast/simulations/logs/\" + str(packet_size) +\"/loglistener_sim_3.txt\"\n",
    "    file = open(filename, \"r\")\n",
    "    received = list()\n",
    "    broadcasted = list()\n",
    "\n",
    "    for line in file:\n",
    "        if ('received the new packet 1' in line):\n",
    "            received.append(line)\n",
    "        if ('broadcasting' in line):\n",
    "            broadcasted.append(line)\n",
    "\n",
    "    print(\"Packet size: %d\" % packet_size)\n",
    "    print(\"\\tReceived packet: %d\" % len(received))\n",
    "    print(\"\\tBroadcasted packet: %d\\n\" % len(broadcasted))"
   ]
  },
  {
   "cell_type": "markdown",
   "metadata": {},
   "source": [
    "## 4\n",
    "Packet size = 2 bytes - 20 bytes"
   ]
  },
  {
   "cell_type": "code",
   "execution_count": 48,
   "metadata": {},
   "outputs": [
    {
     "name": "stdout",
     "output_type": "stream",
     "text": [
      "Packet size: 2\n",
      "\tReceived packet: 12\n",
      "\tBroadcasted packet: 12\n",
      "\n",
      "Packet size: 10\n",
      "\tReceived packet: 12\n",
      "\tBroadcasted packet: 12\n",
      "\n",
      "Packet size: 20\n",
      "\tReceived packet: 12\n",
      "\tBroadcasted packet: 12\n",
      "\n"
     ]
    }
   ],
   "source": [
    "packet_sizes = [2, 10, 20]\n",
    "\n",
    "for packet_size in packet_sizes:\n",
    "    filename = \"broadcast/simulations/logs/\" + str(packet_size) +\"/loglistener_sim_4.txt\"\n",
    "    file = open(filename, \"r\")\n",
    "    received = list()\n",
    "    broadcasted = list()\n",
    "\n",
    "    for line in file:\n",
    "        if ('received the new packet 1' in line):\n",
    "            received.append(line)\n",
    "        if ('broadcasting' in line):\n",
    "            broadcasted.append(line)\n",
    "\n",
    "    print(\"Packet size: %d\" % packet_size)\n",
    "    print(\"\\tReceived packet: %d\" % len(received))\n",
    "    print(\"\\tBroadcasted packet: %d\\n\" % len(broadcasted))"
   ]
  },
  {
   "cell_type": "code",
   "execution_count": null,
   "metadata": {},
   "outputs": [],
   "source": []
  },
  {
   "cell_type": "code",
   "execution_count": null,
   "metadata": {},
   "outputs": [],
   "source": []
  }
 ],
 "metadata": {
  "kernelspec": {
   "display_name": "Python 2",
   "language": "python",
   "name": "python2"
  },
  "language_info": {
   "codemirror_mode": {
    "name": "ipython",
    "version": 3
   },
   "file_extension": ".py",
   "mimetype": "text/x-python",
   "name": "python",
   "nbconvert_exporter": "python",
   "pygments_lexer": "ipython3",
   "version": "3.6.5"
  }
 },
 "nbformat": 4,
 "nbformat_minor": 2
}
